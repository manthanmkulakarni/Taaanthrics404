{
 "cells": [
  {
   "cell_type": "code",
   "execution_count": 1,
   "metadata": {},
   "outputs": [],
   "source": [
    "import numpy as np\n",
    "import pandas as pd\n",
    "import matplotlib.pyplot as plt\n",
    "import random"
   ]
  },
  {
   "cell_type": "code",
   "execution_count": 2,
   "metadata": {},
   "outputs": [],
   "source": [
    "feilds=['homescreen','whatsapp','browser','wifi','youtube']\n",
    "day=[]  #each days stastics\n",
    "day.append([feilds[0],6*60+33,10*60+24])\n",
    "day.append([feilds[1],12*60+3,12*60+14])\n",
    "day.append([feilds[0],13*60+5,14*60+24])\n",
    "day.append([feilds[1],10*60+3,10*60+24])\n",
    "day.append([feilds[1],13*60+3,13*60+44])\n",
    "day.append([feilds[0],18*60+33,22*60+24])\n",
    "day.append([feilds[1],18*60+3,18*60+44])\n",
    "day.append([feilds[1],6*60+33,7*60+24])\n",
    "day.append([feilds[1],17*60+3,17*60+44])\n",
    "day.append([feilds[1],19*60+3,19*60+10])\n",
    "day.append([feilds[1],20*60+13,19*60+25])\n",
    "day.append([feilds[1],21*60+23,19*60+27])\n",
    "day.append([feilds[1],23*60+3,19*60+20])\n",
    "day.append([feilds[2],19*60+3,19*60+20])\n",
    "day.append([feilds[2],10*60+3,19*60+20])\n",
    "day.append([feilds[2],1*60+3,19*60+20])\n",
    "day.append([feilds[3],6*60+3,10*60+20])\n",
    "day.append([feilds[3],13*60+3,14*60+25])\n",
    "day.append([feilds[3],18*60+3,22*60+30])\n",
    "day.append([feilds[3],22*60+3,22*60+40])\n",
    "day.append([feilds[4],13*60+3,13*60+22])\n",
    "day.append([feilds[4],19*60+3,19*60+28])\n",
    "day.append([feilds[4],22*60+10,22*60+28])"
   ]
  },
  {
   "cell_type": "code",
   "execution_count": 7,
   "metadata": {},
   "outputs": [],
   "source": [
    "\n",
    "for j in range(15):\n",
    "    name=\"user\"+str(j+1)\n",
    "    daytemp=np.array(day,dtype=object)\n",
    "    for i in range(daytemp.shape[0]):\n",
    "        t=+random.randrange(5,40)\n",
    "        daytemp[i][1]=daytemp[i][1]+t\n",
    "        daytemp[i][2]=daytemp[i][2]+t+random.randrange(1,7)\n",
    "    dataframetime=pd.DataFrame({'Application':daytemp.T[0],'Timestart':daytemp.T[1],'Timeend':daytemp.T[2]})\n",
    "    dataframetime.to_csv('/home/manthan/Desktop/paytm/Taaanthrics404-master/Paytmmodel/userdata/usertime/userstimebehaviour'+str(j)+'.csv')"
   ]
  },
  {
   "cell_type": "code",
   "execution_count": null,
   "metadata": {},
   "outputs": [],
   "source": []
  },
  {
   "cell_type": "code",
   "execution_count": null,
   "metadata": {},
   "outputs": [],
   "source": []
  },
  {
   "cell_type": "code",
   "execution_count": null,
   "metadata": {},
   "outputs": [],
   "source": []
  },
  {
   "cell_type": "code",
   "execution_count": null,
   "metadata": {},
   "outputs": [],
   "source": []
  }
 ],
 "metadata": {
  "kernelspec": {
   "display_name": "Python 2",
   "language": "python",
   "name": "python2"
  },
  "language_info": {
   "codemirror_mode": {
    "name": "ipython",
    "version": 2
   },
   "file_extension": ".py",
   "mimetype": "text/x-python",
   "name": "python",
   "nbconvert_exporter": "python",
   "pygments_lexer": "ipython2",
   "version": "2.7.12"
  }
 },
 "nbformat": 4,
 "nbformat_minor": 2
}
